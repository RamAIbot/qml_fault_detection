{
  "nbformat": 4,
  "nbformat_minor": 0,
  "metadata": {
    "colab": {
      "provenance": []
    },
    "kernelspec": {
      "name": "python3",
      "display_name": "Python 3"
    },
    "language_info": {
      "name": "python"
    }
  },
  "cells": [
    {
      "cell_type": "code",
      "execution_count": 1,
      "metadata": {
        "colab": {
          "base_uri": "https://localhost:8080/"
        },
        "id": "faJbpeFh4vba",
        "outputId": "35e93002-82d4-4aee-bfc3-a281b79cfdda"
      },
      "outputs": [
        {
          "output_type": "stream",
          "name": "stdout",
          "text": [
            "Collecting pennylane\n",
            "  Downloading PennyLane-0.37.0-py3-none-any.whl.metadata (9.3 kB)\n",
            "Requirement already satisfied: numpy<2.0 in /usr/local/lib/python3.10/dist-packages (from pennylane) (1.26.4)\n",
            "Requirement already satisfied: scipy in /usr/local/lib/python3.10/dist-packages (from pennylane) (1.13.1)\n",
            "Requirement already satisfied: networkx in /usr/local/lib/python3.10/dist-packages (from pennylane) (3.3)\n",
            "Collecting rustworkx (from pennylane)\n",
            "  Downloading rustworkx-0.15.1-cp38-abi3-manylinux_2_17_x86_64.manylinux2014_x86_64.whl.metadata (9.9 kB)\n",
            "Requirement already satisfied: autograd in /usr/local/lib/python3.10/dist-packages (from pennylane) (1.6.2)\n",
            "Requirement already satisfied: toml in /usr/local/lib/python3.10/dist-packages (from pennylane) (0.10.2)\n",
            "Collecting appdirs (from pennylane)\n",
            "  Downloading appdirs-1.4.4-py2.py3-none-any.whl.metadata (9.0 kB)\n",
            "Collecting semantic-version>=2.7 (from pennylane)\n",
            "  Downloading semantic_version-2.10.0-py2.py3-none-any.whl.metadata (9.7 kB)\n",
            "Collecting autoray>=0.6.11 (from pennylane)\n",
            "  Downloading autoray-0.6.12-py3-none-any.whl.metadata (5.7 kB)\n",
            "Requirement already satisfied: cachetools in /usr/local/lib/python3.10/dist-packages (from pennylane) (5.4.0)\n",
            "Collecting pennylane-lightning>=0.37 (from pennylane)\n",
            "  Downloading PennyLane_Lightning-0.37.0-cp310-cp310-manylinux_2_28_x86_64.whl.metadata (23 kB)\n",
            "Requirement already satisfied: requests in /usr/local/lib/python3.10/dist-packages (from pennylane) (2.32.3)\n",
            "Requirement already satisfied: typing-extensions in /usr/local/lib/python3.10/dist-packages (from pennylane) (4.12.2)\n",
            "Requirement already satisfied: packaging in /usr/local/lib/python3.10/dist-packages (from pennylane) (24.1)\n",
            "Requirement already satisfied: future>=0.15.2 in /usr/local/lib/python3.10/dist-packages (from autograd->pennylane) (1.0.0)\n",
            "Requirement already satisfied: charset-normalizer<4,>=2 in /usr/local/lib/python3.10/dist-packages (from requests->pennylane) (3.3.2)\n",
            "Requirement already satisfied: idna<4,>=2.5 in /usr/local/lib/python3.10/dist-packages (from requests->pennylane) (3.7)\n",
            "Requirement already satisfied: urllib3<3,>=1.21.1 in /usr/local/lib/python3.10/dist-packages (from requests->pennylane) (2.0.7)\n",
            "Requirement already satisfied: certifi>=2017.4.17 in /usr/local/lib/python3.10/dist-packages (from requests->pennylane) (2024.7.4)\n",
            "Downloading PennyLane-0.37.0-py3-none-any.whl (1.8 MB)\n",
            "\u001b[2K   \u001b[90m━━━━━━━━━━━━━━━━━━━━━━━━━━━━━━━━━━━━━━━━\u001b[0m \u001b[32m1.8/1.8 MB\u001b[0m \u001b[31m17.8 MB/s\u001b[0m eta \u001b[36m0:00:00\u001b[0m\n",
            "\u001b[?25hDownloading autoray-0.6.12-py3-none-any.whl (50 kB)\n",
            "\u001b[2K   \u001b[90m━━━━━━━━━━━━━━━━━━━━━━━━━━━━━━━━━━━━━━━━\u001b[0m \u001b[32m51.0/51.0 kB\u001b[0m \u001b[31m3.8 MB/s\u001b[0m eta \u001b[36m0:00:00\u001b[0m\n",
            "\u001b[?25hDownloading PennyLane_Lightning-0.37.0-cp310-cp310-manylinux_2_28_x86_64.whl (15.5 MB)\n",
            "\u001b[2K   \u001b[90m━━━━━━━━━━━━━━━━━━━━━━━━━━━━━━━━━━━━━━━━\u001b[0m \u001b[32m15.5/15.5 MB\u001b[0m \u001b[31m54.2 MB/s\u001b[0m eta \u001b[36m0:00:00\u001b[0m\n",
            "\u001b[?25hDownloading semantic_version-2.10.0-py2.py3-none-any.whl (15 kB)\n",
            "Downloading appdirs-1.4.4-py2.py3-none-any.whl (9.6 kB)\n",
            "Downloading rustworkx-0.15.1-cp38-abi3-manylinux_2_17_x86_64.manylinux2014_x86_64.whl (2.0 MB)\n",
            "\u001b[2K   \u001b[90m━━━━━━━━━━━━━━━━━━━━━━━━━━━━━━━━━━━━━━━━\u001b[0m \u001b[32m2.0/2.0 MB\u001b[0m \u001b[31m47.6 MB/s\u001b[0m eta \u001b[36m0:00:00\u001b[0m\n",
            "\u001b[?25hInstalling collected packages: appdirs, semantic-version, rustworkx, autoray, pennylane-lightning, pennylane\n",
            "Successfully installed appdirs-1.4.4 autoray-0.6.12 pennylane-0.37.0 pennylane-lightning-0.37.0 rustworkx-0.15.1 semantic-version-2.10.0\n"
          ]
        }
      ],
      "source": [
        "!pip install pennylane"
      ]
    },
    {
      "cell_type": "code",
      "source": [
        "import pennylane as qml\n",
        "import numpy as nnp\n",
        "from pennylane import numpy as np\n",
        "from pennylane.optimize import NesterovMomentumOptimizer\n",
        "import matplotlib.pyplot as plt\n",
        "from pennylane.templates import RandomLayers\n",
        "import tensorflow as tf\n",
        "from tensorflow import keras\n",
        "import torch\n",
        "import torch.nn as nn\n",
        "import torch.optim as optim\n",
        "import torch.nn.functional as F\n",
        "from sklearn.model_selection import train_test_split"
      ],
      "metadata": {
        "id": "y1WFSUMM4yVI"
      },
      "execution_count": 66,
      "outputs": []
    },
    {
      "cell_type": "markdown",
      "source": [
        "**Task 1**\n",
        "\n",
        "Familiarize yourself with Pennylane. The tutorials in the Pennylane\n",
        "codebook are a good way to get started. We recommend the codebooks\n",
        "from the sections “Introduction to Quantum Computing”, “Single-Qubit\n",
        "Gates” and “Circuits with Many Qubits”,"
      ],
      "metadata": {
        "id": "DijI_MyC48fO"
      }
    },
    {
      "cell_type": "code",
      "source": [
        "# Implementing Single qubit gates in pennylane\n",
        "# X Gate\n",
        "dev = qml.device(\"default.qubit\", wires=1)\n",
        "\n",
        "@qml.qnode(dev)\n",
        "def circuit():\n",
        "    qml.X(wires=0)\n",
        "    return qml.expval(qml.PauliZ(0))\n",
        "\n",
        "drawer = qml.draw(circuit)\n",
        "print(drawer())"
      ],
      "metadata": {
        "colab": {
          "base_uri": "https://localhost:8080/"
        },
        "id": "amwZO0_H5CY6",
        "outputId": "d9439c58-aa18-4faf-bf19-338b7ac7a6e8"
      },
      "execution_count": 5,
      "outputs": [
        {
          "output_type": "stream",
          "name": "stdout",
          "text": [
            "0: ──X─┤  <Z>\n"
          ]
        }
      ]
    },
    {
      "cell_type": "code",
      "source": [
        "# Running the circuit using pennlane default backend simulator\n",
        "circuit()"
      ],
      "metadata": {
        "colab": {
          "base_uri": "https://localhost:8080/"
        },
        "id": "L_upKSh36z96",
        "outputId": "9bb750af-cceb-4296-93fe-9f902c25c0bb"
      },
      "execution_count": 6,
      "outputs": [
        {
          "output_type": "execute_result",
          "data": {
            "text/plain": [
              "tensor(-1., requires_grad=True)"
            ]
          },
          "metadata": {},
          "execution_count": 6
        }
      ]
    },
    {
      "cell_type": "code",
      "source": [
        "# Modifying the measurement to obtain a probability\n",
        "\n",
        "@qml.qnode(dev)\n",
        "def circuit():\n",
        "    qml.X(wires=0)\n",
        "    return qml.probs(wires=[0])\n",
        "\n",
        "drawer = qml.draw(circuit)\n",
        "circuit()"
      ],
      "metadata": {
        "colab": {
          "base_uri": "https://localhost:8080/"
        },
        "id": "-gRo2r2m66dt",
        "outputId": "dc2ab9cd-daae-4fc0-d565-a32392c6b057"
      },
      "execution_count": 7,
      "outputs": [
        {
          "output_type": "execute_result",
          "data": {
            "text/plain": [
              "tensor([0., 1.], requires_grad=True)"
            ]
          },
          "metadata": {},
          "execution_count": 7
        }
      ]
    },
    {
      "cell_type": "code",
      "source": [
        "# Implementing a Hadamard gate\n",
        "@qml.qnode(dev)\n",
        "def circuit():\n",
        "    qml.Hadamard(wires=0)\n",
        "    return qml.probs(wires=[0])\n",
        "\n",
        "drawer = qml.draw(circuit)\n",
        "print(drawer())\n",
        "print(circuit())"
      ],
      "metadata": {
        "colab": {
          "base_uri": "https://localhost:8080/"
        },
        "id": "K9xKZQF38VLA",
        "outputId": "7239eecc-203d-436b-a551-f03780d8feac"
      },
      "execution_count": 9,
      "outputs": [
        {
          "output_type": "stream",
          "name": "stdout",
          "text": [
            "0: ──H─┤  Probs\n",
            "[0.5 0.5]\n"
          ]
        }
      ]
    },
    {
      "cell_type": "code",
      "source": [
        "# Implementing 2 qubit gate\n",
        "\n",
        "dev1 = qml.device(\"default.qubit\", wires=2)\n",
        "\n",
        "@qml.qnode(dev1)\n",
        "def circuit():\n",
        "    qml.CNOT(wires=[0,1])\n",
        "    return qml.probs(wires=[0,1])\n",
        "\n",
        "drawer = qml.draw(circuit)\n",
        "print(drawer())\n",
        "print(circuit())"
      ],
      "metadata": {
        "colab": {
          "base_uri": "https://localhost:8080/"
        },
        "id": "hqGxjskS8jV3",
        "outputId": "96f0c29a-e162-40dc-c2be-3c4b2a38e899"
      },
      "execution_count": 10,
      "outputs": [
        {
          "output_type": "stream",
          "name": "stdout",
          "text": [
            "0: ─╭●─┤ ╭Probs\n",
            "1: ─╰X─┤ ╰Probs\n",
            "[1. 0. 0. 0.]\n"
          ]
        }
      ]
    },
    {
      "cell_type": "code",
      "source": [
        "# Implementing Bell State\n",
        "\n",
        "dev1 = qml.device(\"default.qubit\", wires=2)\n",
        "\n",
        "@qml.qnode(dev1)\n",
        "def circuit():\n",
        "    qml.Hadamard(wires=0)\n",
        "    qml.CNOT(wires=[0,1])\n",
        "    return qml.probs(wires=[0,1])\n",
        "\n",
        "drawer = qml.draw(circuit)\n",
        "print(drawer())\n",
        "print(circuit())"
      ],
      "metadata": {
        "colab": {
          "base_uri": "https://localhost:8080/"
        },
        "id": "PtGch-c88yw-",
        "outputId": "dea090ad-8b57-496e-d13c-130766847e64"
      },
      "execution_count": 11,
      "outputs": [
        {
          "output_type": "stream",
          "name": "stdout",
          "text": [
            "0: ──H─╭●─┤ ╭Probs\n",
            "1: ────╰X─┤ ╰Probs\n",
            "[0.5 0.  0.  0.5]\n"
          ]
        }
      ]
    },
    {
      "cell_type": "markdown",
      "source": [
        "**Task 2**\n",
        "\n",
        "To familiarize yourself with the basic\n",
        "workflow in Quantum Machine Learning, work through the tutorial on\n",
        "Variational Classifier."
      ],
      "metadata": {
        "id": "IlY2Nhg786lT"
      }
    },
    {
      "cell_type": "markdown",
      "source": [
        "In this task, we will be using the Iris classification dataset to train the QML model."
      ],
      "metadata": {
        "id": "5snS2D7Zfs5o"
      }
    },
    {
      "cell_type": "code",
      "source": [
        "# Dataset download\n",
        "!wget https://raw.githubusercontent.com/XanaduAI/qml/master/_static/demonstration_assets/variational_classifier/data/iris_classes1and2_scaled.txt"
      ],
      "metadata": {
        "colab": {
          "base_uri": "https://localhost:8080/"
        },
        "id": "FvCEToR885Ae",
        "outputId": "eff5e018-d03c-4330-f8a6-7faa40a5bc2a"
      },
      "execution_count": 12,
      "outputs": [
        {
          "output_type": "stream",
          "name": "stdout",
          "text": [
            "--2024-08-09 18:57:02--  https://raw.githubusercontent.com/XanaduAI/qml/master/_static/demonstration_assets/variational_classifier/data/iris_classes1and2_scaled.txt\n",
            "Resolving raw.githubusercontent.com (raw.githubusercontent.com)... 185.199.108.133, 185.199.109.133, 185.199.110.133, ...\n",
            "Connecting to raw.githubusercontent.com (raw.githubusercontent.com)|185.199.108.133|:443... connected.\n",
            "HTTP request sent, awaiting response... 200 OK\n",
            "Length: 12550 (12K) [text/plain]\n",
            "Saving to: ‘iris_classes1and2_scaled.txt’\n",
            "\n",
            "iris_classes1and2_s 100%[===================>]  12.26K  --.-KB/s    in 0s      \n",
            "\n",
            "2024-08-09 18:57:02 (69.7 MB/s) - ‘iris_classes1and2_scaled.txt’ saved [12550/12550]\n",
            "\n"
          ]
        }
      ]
    },
    {
      "cell_type": "code",
      "source": [
        "# The dataset contains 4 features and a class label for each point. It is a binary classification problem\n",
        "with open('iris_classes1and2_scaled.txt', 'r') as f:\n",
        "  for i in range(5):\n",
        "    print(f.readline())"
      ],
      "metadata": {
        "colab": {
          "base_uri": "https://localhost:8080/"
        },
        "id": "h9FniC3MgFP6",
        "outputId": "ffe8edac-5e72-4572-abb3-935b182ba200"
      },
      "execution_count": 13,
      "outputs": [
        {
          "output_type": "stream",
          "name": "stdout",
          "text": [
            "3.999999999999999112e-01 7.500000000000000000e-01 1.999999999999999556e-01 5.000000000000000278e-02 -1.000000000000000000e+00\n",
            "\n",
            "3.000000000000002665e-01 5.000000000000000000e-01 1.999999999999999556e-01 5.000000000000000278e-02 -1.000000000000000000e+00\n",
            "\n",
            "2.000000000000001776e-01 6.000000000000000888e-01 1.500000000000000222e-01 5.000000000000000278e-02 -1.000000000000000000e+00\n",
            "\n",
            "1.499999999999999112e-01 5.500000000000000444e-01 2.500000000000000000e-01 5.000000000000000278e-02 -1.000000000000000000e+00\n",
            "\n",
            "3.500000000000000888e-01 8.000000000000000444e-01 1.999999999999999556e-01 5.000000000000000278e-02 -1.000000000000000000e+00\n",
            "\n"
          ]
        }
      ]
    },
    {
      "cell_type": "code",
      "source": [
        "dev = qml.device(\"default.qubit\")\n",
        "dev"
      ],
      "metadata": {
        "colab": {
          "base_uri": "https://localhost:8080/"
        },
        "id": "_XSjZd8LgfTx",
        "outputId": "c170e5d6-6e89-47f8-bd36-17596c6a5a50"
      },
      "execution_count": 15,
      "outputs": [
        {
          "output_type": "execute_result",
          "data": {
            "text/plain": [
              "<default.qubit device at 0x7890be66f010>"
            ]
          },
          "metadata": {},
          "execution_count": 15
        }
      ]
    },
    {
      "cell_type": "code",
      "source": [
        "data = np.loadtxt(\"/content/iris_classes1and2_scaled.txt\")\n",
        "X = data[:, 0:4]\n",
        "print(f\"First X sample (original)  : {X[0]}\")\n",
        "\n",
        "# normalize each input\n",
        "normalization = np.sqrt(np.sum(X**2, -1))\n",
        "X_norm = (X.T / normalization).T\n",
        "print(f\"First X sample (normalized): {X_norm[0]}\")\n",
        "\n",
        "Y = data[:, -1]\n",
        "print(Y[0])"
      ],
      "metadata": {
        "colab": {
          "base_uri": "https://localhost:8080/"
        },
        "id": "rZRzwMXRgqoN",
        "outputId": "1c53db6f-3225-40cb-b8fa-63b6ac4daeb3"
      },
      "execution_count": 18,
      "outputs": [
        {
          "output_type": "stream",
          "name": "stdout",
          "text": [
            "First X sample (original)  : [0.4  0.75 0.2  0.05]\n",
            "First X sample (normalized): [0.45732956 0.85749293 0.22866478 0.0571662 ]\n",
            "-1.0\n"
          ]
        }
      ]
    },
    {
      "cell_type": "markdown",
      "source": [
        "*Step - 1 State preparation*\n",
        "\n",
        "We will be using Amplitude embedding approach to map the classical values into the quantum hilbert space. These values are embedded in the amplitude of each states after normalization.\n",
        "\n",
        "Since in this case, having 4 input features, we can perform amplitude embedding using 2 qubits."
      ],
      "metadata": {
        "id": "IoKBETO0iAls"
      }
    },
    {
      "cell_type": "code",
      "source": [
        "# The way in which we do amplitude embedding is through performing angle embedding.\n",
        "# We compute the angles which have to be applied to the motten state circuit such that\n",
        "# it produces the output states which has the probabilites proportional to the classical\n",
        "# features\n",
        "def get_angles(x):\n",
        "    beta0 = 2 * np.arcsin(np.sqrt(x[1] ** 2) / np.sqrt(x[0] ** 2 + x[1] ** 2 + 1e-12))\n",
        "    beta1 = 2 * np.arcsin(np.sqrt(x[3] ** 2) / np.sqrt(x[2] ** 2 + x[3] ** 2 + 1e-12))\n",
        "    beta2 = 2 * np.arcsin(np.linalg.norm(x[2:]) / np.linalg.norm(x))\n",
        "\n",
        "    return np.array([beta2, -beta1 / 2, beta1 / 2, -beta0 / 2, beta0 / 2])\n",
        "\n",
        "\n",
        "def state_preparation(a):\n",
        "    qml.RY(a[0], wires=0)\n",
        "\n",
        "    qml.CNOT(wires=[0, 1])\n",
        "    qml.RY(a[1], wires=1)\n",
        "    qml.CNOT(wires=[0, 1])\n",
        "    qml.RY(a[2], wires=1)\n",
        "\n",
        "    qml.PauliX(wires=0)\n",
        "    qml.CNOT(wires=[0, 1])\n",
        "    qml.RY(a[3], wires=1)\n",
        "    qml.CNOT(wires=[0, 1])\n",
        "    qml.RY(a[4], wires=1)\n",
        "    qml.PauliX(wires=0)"
      ],
      "metadata": {
        "id": "6bA5w2e2hunA"
      },
      "execution_count": 24,
      "outputs": []
    },
    {
      "cell_type": "code",
      "source": [
        "# Testing the manual implementation of the amplitude embedding\n",
        "x = np.array([0.53896774, 0.79503606, 0.27826503, 0.0], requires_grad=False)\n",
        "ang = get_angles(x)"
      ],
      "metadata": {
        "id": "1OEgefbRihN_"
      },
      "execution_count": 20,
      "outputs": []
    },
    {
      "cell_type": "code",
      "source": [
        "@qml.qnode(dev)\n",
        "def test(angles):\n",
        "    state_preparation(angles)\n",
        "\n",
        "    return qml.state()"
      ],
      "metadata": {
        "id": "zajUlm6Sil1h"
      },
      "execution_count": 22,
      "outputs": []
    },
    {
      "cell_type": "code",
      "source": [
        "state = test(ang)\n",
        "\n",
        "print(\"x               : \", np.round(x, 6))\n",
        "print(\"angles          : \", np.round(ang, 6))\n",
        "print(\"amplitude vector: \", np.round(np.real(state), 6))"
      ],
      "metadata": {
        "colab": {
          "base_uri": "https://localhost:8080/"
        },
        "id": "Gr84udaRimik",
        "outputId": "c3d44733-8a39-4df6-c219-da2baae77a4d"
      },
      "execution_count": 23,
      "outputs": [
        {
          "output_type": "stream",
          "name": "stdout",
          "text": [
            "x               :  [0.538968 0.795036 0.278265 0.      ]\n",
            "angles          :  [ 0.563975 -0.        0.       -0.975046  0.975046]\n",
            "amplitude vector:  [ 0.538968  0.795036  0.278265 -0.      ]\n"
          ]
        }
      ]
    },
    {
      "cell_type": "code",
      "source": [
        "# the angles for state preparation are the features\n",
        "features = np.array([get_angles(x) for x in X_norm], requires_grad=False)\n",
        "features[0]"
      ],
      "metadata": {
        "colab": {
          "base_uri": "https://localhost:8080/"
        },
        "id": "uED91KvUnGLy",
        "outputId": "b05bd3fa-944a-481d-d2b4-85d08183ebac"
      },
      "execution_count": 34,
      "outputs": [
        {
          "output_type": "execute_result",
          "data": {
            "text/plain": [
              "tensor([ 0.47588225, -0.24497866,  0.24497866, -1.080839  ,  1.080839  ], requires_grad=False)"
            ]
          },
          "metadata": {},
          "execution_count": 34
        }
      ]
    },
    {
      "cell_type": "markdown",
      "source": [
        "*Step 2 - Ansatz preparation*"
      ],
      "metadata": {
        "id": "qfdT17N4jCVU"
      }
    },
    {
      "cell_type": "markdown",
      "source": [
        "In this simple case, we will be using the Basic entangler ansatz which has the parameterized Ry gate for each qubit and a linear connection of CNOT between the pair of qubits."
      ],
      "metadata": {
        "id": "uAEDwoqYjF1x"
      }
    },
    {
      "cell_type": "code",
      "source": [
        "def layer(layer_weights):\n",
        "    for wire in range(2):\n",
        "        qml.Rot(*layer_weights[wire], wires=wire)\n",
        "    qml.CNOT(wires=[0, 1])"
      ],
      "metadata": {
        "id": "g42f35_WionT"
      },
      "execution_count": 25,
      "outputs": []
    },
    {
      "cell_type": "markdown",
      "source": [
        "*Step 3 - Quantum Circuit formulation*\n",
        "\n",
        "So we prepare the quantum circuit consisting of 4 modules.\n",
        "\n",
        "\n",
        "1.   Initial state\n",
        "2.   State prepration\n",
        "3.   Ansatz\n",
        "4.   Measurement\n",
        "\n",
        "\n",
        "We set all 0's as the initial state in this example but there are other initializatio starategies as well. Next, we use the amplitude embedding approach to prepare quantum states from the classical data followed by an basic entangler ansatz. Finally, we perform measurement over Z axis (compute expectation) and readout the classification results.\n",
        "\n"
      ],
      "metadata": {
        "id": "Zy48WA7dk8m-"
      }
    },
    {
      "cell_type": "code",
      "source": [
        "@qml.qnode(dev)\n",
        "def circuit(weights, x):\n",
        "    state_preparation(x)\n",
        "\n",
        "    for layer_weights in weights:\n",
        "        layer(layer_weights)\n",
        "\n",
        "    return qml.expval(qml.PauliZ(0))"
      ],
      "metadata": {
        "id": "y1U-7yHgkzJG"
      },
      "execution_count": 26,
      "outputs": []
    },
    {
      "cell_type": "code",
      "source": [
        "def variational_classifier(weights, bias, x):\n",
        "    return circuit(weights, x) + bias"
      ],
      "metadata": {
        "id": "ylqd9RZmk25_"
      },
      "execution_count": 27,
      "outputs": []
    },
    {
      "cell_type": "markdown",
      "source": [
        "*Step 4 - Cost function*\n",
        "\n",
        "Since, we are performing classication, the square loss function can be used to estimate the average loss for a batch of inputs."
      ],
      "metadata": {
        "id": "EScfOY9aklAq"
      }
    },
    {
      "cell_type": "code",
      "source": [
        "def square_loss(labels, predictions):\n",
        "    # We use a call to qml.math.stack to allow subtracting the arrays directly\n",
        "    return np.mean((labels - qml.math.stack(predictions)) ** 2)"
      ],
      "metadata": {
        "id": "I6rOGmeGlvZ4"
      },
      "execution_count": 28,
      "outputs": []
    },
    {
      "cell_type": "code",
      "source": [
        "def cost(weights, bias, X, Y):\n",
        "    # Transpose the batch of input data in order to make the indexing\n",
        "    # in state_preparation work\n",
        "    predictions = variational_classifier(weights, bias, X.T)\n",
        "    return square_loss(Y, predictions)"
      ],
      "metadata": {
        "id": "eBk7-h66jRuD"
      },
      "execution_count": 29,
      "outputs": []
    },
    {
      "cell_type": "code",
      "source": [
        "# We create a function to estimate the accuracy of the model for classification\n",
        "def accuracy(labels, predictions):\n",
        "    acc = sum(abs(l - p) < 1e-5 for l, p in zip(labels, predictions))\n",
        "    acc = acc / len(labels)\n",
        "    return acc"
      ],
      "metadata": {
        "id": "IgGfYWpjmIIf"
      },
      "execution_count": 30,
      "outputs": []
    },
    {
      "cell_type": "code",
      "source": [
        "# Splitting the inputs points for train and test set. We uses 75% for train and 25% for test set.\n",
        "np.random.seed(0)\n",
        "num_data = len(Y)\n",
        "num_train = int(0.75 * num_data)\n",
        "index = np.random.permutation(range(num_data))\n",
        "feats_train = features[index[:num_train]]\n",
        "Y_train = Y[index[:num_train]]\n",
        "feats_val = features[index[num_train:]]\n",
        "Y_val = Y[index[num_train:]]\n",
        "\n",
        "# We need these later for plotting\n",
        "X_train = X[index[:num_train]]\n",
        "X_val = X[index[num_train:]]"
      ],
      "metadata": {
        "id": "9Fmjlw2Pm7YD"
      },
      "execution_count": 35,
      "outputs": []
    },
    {
      "cell_type": "markdown",
      "source": [
        "*Step 5 - Setting Random initial weights and biases*\n",
        "\n",
        "We can prepare the initial set of weights are bias such that its more directed and closer to the global minimum. In this case, we are using a random normal distribution to create the initial set of weights and all 0s for biases."
      ],
      "metadata": {
        "id": "hSH_PV9KmUdJ"
      }
    },
    {
      "cell_type": "code",
      "source": [
        "np.random.seed(0)\n",
        "num_qubits = 2\n",
        "num_layers = 6\n",
        "\n",
        "weights_init = 0.01 * np.random.randn(num_layers, num_qubits, 3, requires_grad=True)\n",
        "bias_init = np.array(0.0, requires_grad=True)\n",
        "print(weights_init, bias_init)"
      ],
      "metadata": {
        "colab": {
          "base_uri": "https://localhost:8080/"
        },
        "id": "rWFrxAFrmPik",
        "outputId": "05e39d0c-01bb-4f8c-fe28-8cf7b64cc804"
      },
      "execution_count": 37,
      "outputs": [
        {
          "output_type": "stream",
          "name": "stdout",
          "text": [
            "[[[ 0.01764052  0.00400157  0.00978738]\n",
            "  [ 0.02240893  0.01867558 -0.00977278]]\n",
            "\n",
            " [[ 0.00950088 -0.00151357 -0.00103219]\n",
            "  [ 0.00410599  0.00144044  0.01454274]]\n",
            "\n",
            " [[ 0.00761038  0.00121675  0.00443863]\n",
            "  [ 0.00333674  0.01494079 -0.00205158]]\n",
            "\n",
            " [[ 0.00313068 -0.00854096 -0.0255299 ]\n",
            "  [ 0.00653619  0.00864436 -0.00742165]]\n",
            "\n",
            " [[ 0.02269755 -0.01454366  0.00045759]\n",
            "  [-0.00187184  0.01532779  0.01469359]]\n",
            "\n",
            " [[ 0.00154947  0.00378163 -0.00887786]\n",
            "  [-0.01980796 -0.00347912  0.00156349]]] 0.0\n"
          ]
        }
      ]
    },
    {
      "cell_type": "markdown",
      "source": [
        "*Step 6 - Optimization*"
      ],
      "metadata": {
        "id": "oppY4W11mpmV"
      }
    },
    {
      "cell_type": "code",
      "source": [
        "opt = NesterovMomentumOptimizer(0.01)\n",
        "batch_size = 5"
      ],
      "metadata": {
        "id": "nqgWMnbLmny2"
      },
      "execution_count": 38,
      "outputs": []
    },
    {
      "cell_type": "code",
      "source": [
        "# train the variational classifier\n",
        "weights = weights_init\n",
        "bias = bias_init\n",
        "for it in range(60):\n",
        "    # Update the weights by one optimizer step\n",
        "    batch_index = np.random.randint(0, num_train, (batch_size,))\n",
        "    feats_train_batch = feats_train[batch_index]\n",
        "    Y_train_batch = Y_train[batch_index]\n",
        "    weights, bias, _, _ = opt.step(cost, weights, bias, feats_train_batch, Y_train_batch)\n",
        "\n",
        "    # Compute predictions on train and validation set\n",
        "    predictions_train = np.sign(variational_classifier(weights, bias, feats_train.T))\n",
        "    predictions_val = np.sign(variational_classifier(weights, bias, feats_val.T))\n",
        "\n",
        "    # Compute accuracy on train and validation set\n",
        "    acc_train = accuracy(Y_train, predictions_train)\n",
        "    acc_val = accuracy(Y_val, predictions_val)\n",
        "\n",
        "    if (it + 1) % 2 == 0:\n",
        "        _cost = cost(weights, bias, features, Y)\n",
        "        print(\n",
        "            f\"Iter: {it + 1:5d} | Cost: {_cost:0.7f} | \"\n",
        "            f\"Acc train: {acc_train:0.7f} | Acc validation: {acc_val:0.7f}\"\n",
        "        )"
      ],
      "metadata": {
        "colab": {
          "base_uri": "https://localhost:8080/"
        },
        "id": "1rQK0wsrmrsZ",
        "outputId": "3f46f3c0-d385-4358-8e0d-04846cc58ff8"
      },
      "execution_count": 39,
      "outputs": [
        {
          "output_type": "stream",
          "name": "stdout",
          "text": [
            "Iter:     2 | Cost: 2.8650255 | Acc train: 0.0133333 | Acc validation: 0.0000000\n",
            "Iter:     4 | Cost: 2.8806242 | Acc train: 0.0400000 | Acc validation: 0.0000000\n",
            "Iter:     6 | Cost: 2.7590485 | Acc train: 0.2266667 | Acc validation: 0.3200000\n",
            "Iter:     8 | Cost: 2.3538574 | Acc train: 0.4800000 | Acc validation: 0.4400000\n",
            "Iter:    10 | Cost: 1.5779734 | Acc train: 0.5200000 | Acc validation: 0.4400000\n",
            "Iter:    12 | Cost: 0.6364346 | Acc train: 0.6266667 | Acc validation: 0.5600000\n",
            "Iter:    14 | Cost: 0.1456419 | Acc train: 1.0000000 | Acc validation: 1.0000000\n",
            "Iter:    16 | Cost: 0.1008715 | Acc train: 0.9866667 | Acc validation: 1.0000000\n",
            "Iter:    18 | Cost: 0.2189263 | Acc train: 0.9866667 | Acc validation: 1.0000000\n",
            "Iter:    20 | Cost: 0.2764345 | Acc train: 0.9733333 | Acc validation: 0.9600000\n",
            "Iter:    22 | Cost: 0.2204083 | Acc train: 0.9866667 | Acc validation: 1.0000000\n",
            "Iter:    24 | Cost: 0.1290415 | Acc train: 0.9866667 | Acc validation: 1.0000000\n",
            "Iter:    26 | Cost: 0.0799797 | Acc train: 0.9866667 | Acc validation: 1.0000000\n",
            "Iter:    28 | Cost: 0.0732208 | Acc train: 1.0000000 | Acc validation: 1.0000000\n",
            "Iter:    30 | Cost: 0.0769217 | Acc train: 1.0000000 | Acc validation: 1.0000000\n",
            "Iter:    32 | Cost: 0.0778206 | Acc train: 1.0000000 | Acc validation: 1.0000000\n",
            "Iter:    34 | Cost: 0.0774084 | Acc train: 1.0000000 | Acc validation: 1.0000000\n",
            "Iter:    36 | Cost: 0.0763869 | Acc train: 1.0000000 | Acc validation: 1.0000000\n",
            "Iter:    38 | Cost: 0.0755372 | Acc train: 1.0000000 | Acc validation: 1.0000000\n",
            "Iter:    40 | Cost: 0.0778910 | Acc train: 1.0000000 | Acc validation: 1.0000000\n",
            "Iter:    42 | Cost: 0.0785717 | Acc train: 1.0000000 | Acc validation: 1.0000000\n",
            "Iter:    44 | Cost: 0.0791783 | Acc train: 1.0000000 | Acc validation: 1.0000000\n",
            "Iter:    46 | Cost: 0.0790609 | Acc train: 1.0000000 | Acc validation: 1.0000000\n",
            "Iter:    48 | Cost: 0.0765966 | Acc train: 1.0000000 | Acc validation: 1.0000000\n",
            "Iter:    50 | Cost: 0.0752633 | Acc train: 1.0000000 | Acc validation: 1.0000000\n",
            "Iter:    52 | Cost: 0.0744253 | Acc train: 1.0000000 | Acc validation: 1.0000000\n",
            "Iter:    54 | Cost: 0.0737527 | Acc train: 1.0000000 | Acc validation: 1.0000000\n",
            "Iter:    56 | Cost: 0.0726383 | Acc train: 1.0000000 | Acc validation: 1.0000000\n",
            "Iter:    58 | Cost: 0.0721622 | Acc train: 1.0000000 | Acc validation: 1.0000000\n",
            "Iter:    60 | Cost: 0.0717539 | Acc train: 0.9866667 | Acc validation: 1.0000000\n"
          ]
        }
      ]
    },
    {
      "cell_type": "markdown",
      "source": [
        "We can see that model is well trained and able to produce an 100% classifcation accuracy on the test set."
      ],
      "metadata": {
        "id": "mKNCiuh2n-hA"
      }
    },
    {
      "cell_type": "markdown",
      "source": [
        "**Task 3**\n",
        "\n",
        "Consider a more sophisticated model using\n",
        "an interesting real-world dataset (here the MNIST dataset), Quanvolutional\n",
        "Neural Networks."
      ],
      "metadata": {
        "id": "sJPtnMaBoLP9"
      }
    },
    {
      "cell_type": "markdown",
      "source": [
        "The Quanvolutional neural networks function similarly as like the convolutional layers in a classical CNN model. Instead of applying classical convolutional operation from the window of pixels, we apply a quantum circuit to it.\n",
        "\n",
        "Here, we will be using the MNIST dataset - a compressed version to perform the classificatio between 0 and 1."
      ],
      "metadata": {
        "id": "oLd8VEixsR6y"
      }
    },
    {
      "cell_type": "code",
      "source": [
        "n_epochs = 30   # Number of optimization epochs\n",
        "n_layers = 1    # Number of random layers\n",
        "n_train = 50    # Size of the train dataset\n",
        "n_test = 30     # Size of the test dataset\n",
        "\n",
        "SAVE_PATH = \"./\"  # Data saving folder\n",
        "PREPROCESS = True           # If False, skip quantum processing and load data from SAVE_PATH\n",
        "np.random.seed(0)           # Seed for NumPy random number generator\n",
        "tf.random.set_seed(0)       # Seed for TensorFlow random number generator"
      ],
      "metadata": {
        "id": "fb5liyt7mt3m"
      },
      "execution_count": 47,
      "outputs": []
    },
    {
      "cell_type": "code",
      "source": [
        "mnist_dataset = keras.datasets.mnist\n",
        "(train_images, train_labels), (test_images, test_labels) = mnist_dataset.load_data()\n",
        "\n",
        "# Reduce dataset size\n",
        "train_images = train_images[:n_train]\n",
        "train_labels = train_labels[:n_train]\n",
        "test_images = test_images[:n_test]\n",
        "test_labels = test_labels[:n_test]\n",
        "\n",
        "# Normalize pixel values within 0 and 1\n",
        "train_images = train_images / 255\n",
        "test_images = test_images / 255\n",
        "\n",
        "# Add extra dimension for convolution channels\n",
        "train_images = np.array(train_images[..., tf.newaxis], requires_grad=False)\n",
        "test_images = np.array(test_images[..., tf.newaxis], requires_grad=False)"
      ],
      "metadata": {
        "colab": {
          "base_uri": "https://localhost:8080/"
        },
        "id": "YmrhNirRsQCj",
        "outputId": "1905e203-61a4-4903-87c6-c54ee169b251"
      },
      "execution_count": 48,
      "outputs": [
        {
          "output_type": "stream",
          "name": "stdout",
          "text": [
            "Downloading data from https://storage.googleapis.com/tensorflow/tf-keras-datasets/mnist.npz\n",
            "\u001b[1m11490434/11490434\u001b[0m \u001b[32m━━━━━━━━━━━━━━━━━━━━\u001b[0m\u001b[37m\u001b[0m \u001b[1m0s\u001b[0m 0us/step\n"
          ]
        }
      ]
    },
    {
      "cell_type": "code",
      "source": [
        "dev = qml.device(\"default.qubit\", wires=4)\n",
        "dev"
      ],
      "metadata": {
        "colab": {
          "base_uri": "https://localhost:8080/"
        },
        "id": "ttk-fj_BxBbn",
        "outputId": "4019a245-0ace-4910-94c0-29cc1cbe2458"
      },
      "execution_count": 49,
      "outputs": [
        {
          "output_type": "execute_result",
          "data": {
            "text/plain": [
              "<default.qubit device (wires=4) at 0x7890cb76b100>"
            ]
          },
          "metadata": {},
          "execution_count": 49
        }
      ]
    },
    {
      "cell_type": "markdown",
      "source": [
        "*Step - 1 - State preparation*\n",
        "\n",
        "The classical pixel data is converted to quantum hilbert space using Angle embedding rotated along Y axis of the Bloch sphere."
      ],
      "metadata": {
        "id": "BEBdMOyRxtmB"
      }
    },
    {
      "cell_type": "markdown",
      "source": [
        "*Step - 2 - Ansatz*\n",
        "\n",
        "We will be using a Random ansatz cicuit in this case. The circuit contains various rotation gates which are parameterized and some two qubit entanglers."
      ],
      "metadata": {
        "id": "5hjtgHJgx87w"
      }
    },
    {
      "cell_type": "code",
      "source": [
        "# Random circuit parameters\n",
        "rand_params = np.random.uniform(high=2 * np.pi, size=(n_layers, 4))\n",
        "\n",
        "@qml.qnode(dev)\n",
        "def circuit(phi):\n",
        "    # Encoding of 4 classical input values\n",
        "    for j in range(4):\n",
        "        qml.RY(np.pi * phi[j], wires=j)\n",
        "\n",
        "    # Random quantum circuit\n",
        "    RandomLayers(rand_params, wires=list(range(4)))\n",
        "\n",
        "    # Measurement producing 4 classical output values\n",
        "    return [qml.expval(qml.PauliZ(j)) for j in range(4)]"
      ],
      "metadata": {
        "id": "CLVKmrN3xrKd"
      },
      "execution_count": 50,
      "outputs": []
    },
    {
      "cell_type": "markdown",
      "source": [
        "*Step 3 - Quanvolution*\n",
        "\n",
        "We take the window of pixels and move through the image from the dataset and perform the quanvolution operating by passing the window of pixel to this quantum circuit. This inturn gathers various image features and have a smaller size compared to the input image."
      ],
      "metadata": {
        "id": "9T5fi4iwyQUV"
      }
    },
    {
      "cell_type": "code",
      "source": [
        "def quanv(image):\n",
        "    \"\"\"Convolves the input image with many applications of the same quantum circuit.\"\"\"\n",
        "    out = np.zeros((14, 14, 4))\n",
        "\n",
        "    # Loop over the coordinates of the top-left pixel of 2X2 squares\n",
        "    for j in range(0, 28, 2):\n",
        "        for k in range(0, 28, 2):\n",
        "            # Process a squared 2x2 region of the image with a quantum circuit\n",
        "            q_results = circuit(\n",
        "                [\n",
        "                    image[j, k, 0],\n",
        "                    image[j, k + 1, 0],\n",
        "                    image[j + 1, k, 0],\n",
        "                    image[j + 1, k + 1, 0]\n",
        "                ]\n",
        "            )\n",
        "            # Assign expectation values to different channels of the output pixel (j/2, k/2)\n",
        "            for c in range(4):\n",
        "                out[j // 2, k // 2, c] = q_results[c]\n",
        "    return out"
      ],
      "metadata": {
        "id": "WVFlRkG1yNnR"
      },
      "execution_count": 51,
      "outputs": []
    },
    {
      "cell_type": "code",
      "source": [
        "# Performing the quanvolution preprocessing\n",
        "if PREPROCESS == True:\n",
        "    q_train_images = []\n",
        "    print(\"Quantum pre-processing of train images:\")\n",
        "    for idx, img in enumerate(train_images):\n",
        "        print(\"{}/{}        \".format(idx + 1, n_train), end=\"\\r\")\n",
        "        q_train_images.append(quanv(img))\n",
        "    q_train_images = np.asarray(q_train_images)\n",
        "\n",
        "    q_test_images = []\n",
        "    print(\"\\nQuantum pre-processing of test images:\")\n",
        "    for idx, img in enumerate(test_images):\n",
        "        print(\"{}/{}        \".format(idx + 1, n_test), end=\"\\r\")\n",
        "        q_test_images.append(quanv(img))\n",
        "    q_test_images = np.asarray(q_test_images)\n",
        "\n",
        "    # Save pre-processed images\n",
        "    np.save(SAVE_PATH + \"q_train_images.npy\", q_train_images)\n",
        "    np.save(SAVE_PATH + \"q_test_images.npy\", q_test_images)\n",
        "\n",
        "\n",
        "# Load pre-processed images\n",
        "q_train_images = np.load(SAVE_PATH + \"q_train_images.npy\")\n",
        "q_test_images = np.load(SAVE_PATH + \"q_test_images.npy\")"
      ],
      "metadata": {
        "colab": {
          "base_uri": "https://localhost:8080/"
        },
        "id": "nslHrZGBzWW9",
        "outputId": "169cd6fc-3679-4bbb-e877-cdafd589adf6"
      },
      "execution_count": 52,
      "outputs": [
        {
          "output_type": "stream",
          "name": "stdout",
          "text": [
            "Quantum pre-processing of train images:\n",
            "\n",
            "Quantum pre-processing of test images:\n"
          ]
        }
      ]
    },
    {
      "cell_type": "code",
      "source": [
        "n_samples = 4\n",
        "n_channels = 4\n",
        "fig, axes = plt.subplots(1 + n_channels, n_samples, figsize=(10, 10))\n",
        "for k in range(n_samples):\n",
        "    axes[0, 0].set_ylabel(\"Input\")\n",
        "    if k != 0:\n",
        "        axes[0, k].yaxis.set_visible(False)\n",
        "    axes[0, k].imshow(train_images[k, :, :, 0], cmap=\"gray\")\n",
        "\n",
        "    # Plot all output channels\n",
        "    for c in range(n_channels):\n",
        "        axes[c + 1, 0].set_ylabel(\"Output [ch. {}]\".format(c))\n",
        "        if k != 0:\n",
        "            axes[c, k].yaxis.set_visible(False)\n",
        "        axes[c + 1, k].imshow(q_train_images[k, :, :, c], cmap=\"gray\")\n",
        "\n",
        "plt.tight_layout()\n",
        "plt.show()"
      ],
      "metadata": {
        "colab": {
          "base_uri": "https://localhost:8080/",
          "height": 1000
        },
        "id": "ic9qX1y-zcek",
        "outputId": "0e64d7a0-6873-4ffa-bf81-2aae90121dcb"
      },
      "execution_count": 53,
      "outputs": [
        {
          "output_type": "display_data",
          "data": {
            "text/plain": [
              "<Figure size 1000x1000 with 20 Axes>"
            ],
            "image/png": "[encoded data removed]"
          },
          "metadata": {}
        }
      ]
    },
    {
      "cell_type": "markdown",
      "source": [
        "The quanvolution is performed on each input image and we have set of 4 features extracted from each of them. We can use these features as input to the classical model to train on them."
      ],
      "metadata": {
        "id": "FhiOWLG3zgwJ"
      }
    },
    {
      "cell_type": "code",
      "source": [
        "def MyModel():\n",
        "    \"\"\"Initializes and returns a custom Keras model\n",
        "    which is ready to be trained.\"\"\"\n",
        "    model = keras.models.Sequential([\n",
        "        keras.layers.Flatten(),\n",
        "        keras.layers.Dense(10, activation=\"softmax\")\n",
        "    ])\n",
        "\n",
        "    model.compile(\n",
        "        optimizer='adam',\n",
        "        loss=\"sparse_categorical_crossentropy\",\n",
        "        metrics=[\"accuracy\"],\n",
        "    )\n",
        "    return model"
      ],
      "metadata": {
        "id": "tfMgwFMJze9E"
      },
      "execution_count": 54,
      "outputs": []
    },
    {
      "cell_type": "code",
      "source": [
        "# Training\n",
        "\n",
        "q_model = MyModel()\n",
        "\n",
        "q_history = q_model.fit(\n",
        "    q_train_images,\n",
        "    train_labels,\n",
        "    validation_data=(q_test_images, test_labels),\n",
        "    batch_size=4,\n",
        "    epochs=n_epochs,\n",
        "    verbose=2,\n",
        ")"
      ],
      "metadata": {
        "colab": {
          "base_uri": "https://localhost:8080/"
        },
        "id": "2PXY_l7p1-LQ",
        "outputId": "a27b9660-8882-4060-8827-b19659c625dd"
      },
      "execution_count": 55,
      "outputs": [
        {
          "output_type": "stream",
          "name": "stdout",
          "text": [
            "Epoch 1/30\n",
            "13/13 - 1s - 110ms/step - accuracy: 0.1600 - loss: 2.6443 - val_accuracy: 0.2333 - val_loss: 2.0093\n",
            "Epoch 2/30\n",
            "13/13 - 0s - 28ms/step - accuracy: 0.4200 - loss: 1.8511 - val_accuracy: 0.5333 - val_loss: 1.8507\n",
            "Epoch 3/30\n",
            "13/13 - 0s - 5ms/step - accuracy: 0.6000 - loss: 1.5367 - val_accuracy: 0.5333 - val_loss: 1.7086\n",
            "Epoch 4/30\n",
            "13/13 - 0s - 5ms/step - accuracy: 0.7000 - loss: 1.2409 - val_accuracy: 0.5667 - val_loss: 1.5602\n",
            "Epoch 5/30\n",
            "13/13 - 0s - 6ms/step - accuracy: 0.8400 - loss: 1.0189 - val_accuracy: 0.6333 - val_loss: 1.4663\n",
            "Epoch 6/30\n",
            "13/13 - 0s - 6ms/step - accuracy: 0.9400 - loss: 0.8448 - val_accuracy: 0.6667 - val_loss: 1.3958\n",
            "Epoch 7/30\n",
            "13/13 - 0s - 11ms/step - accuracy: 0.9800 - loss: 0.7072 - val_accuracy: 0.6667 - val_loss: 1.3333\n",
            "Epoch 8/30\n",
            "13/13 - 0s - 6ms/step - accuracy: 0.9800 - loss: 0.5966 - val_accuracy: 0.7000 - val_loss: 1.2810\n",
            "Epoch 9/30\n",
            "13/13 - 0s - 11ms/step - accuracy: 1.0000 - loss: 0.5082 - val_accuracy: 0.7000 - val_loss: 1.2396\n",
            "Epoch 10/30\n",
            "13/13 - 0s - 9ms/step - accuracy: 1.0000 - loss: 0.4374 - val_accuracy: 0.7000 - val_loss: 1.2057\n",
            "Epoch 11/30\n",
            "13/13 - 0s - 5ms/step - accuracy: 1.0000 - loss: 0.3800 - val_accuracy: 0.7000 - val_loss: 1.1771\n",
            "Epoch 12/30\n",
            "13/13 - 0s - 11ms/step - accuracy: 1.0000 - loss: 0.3330 - val_accuracy: 0.7333 - val_loss: 1.1534\n",
            "Epoch 13/30\n",
            "13/13 - 0s - 10ms/step - accuracy: 1.0000 - loss: 0.2941 - val_accuracy: 0.7333 - val_loss: 1.1338\n",
            "Epoch 14/30\n",
            "13/13 - 0s - 11ms/step - accuracy: 1.0000 - loss: 0.2616 - val_accuracy: 0.7333 - val_loss: 1.1171\n",
            "Epoch 15/30\n",
            "13/13 - 0s - 10ms/step - accuracy: 1.0000 - loss: 0.2343 - val_accuracy: 0.7333 - val_loss: 1.1029\n",
            "Epoch 16/30\n",
            "13/13 - 0s - 12ms/step - accuracy: 1.0000 - loss: 0.2112 - val_accuracy: 0.7333 - val_loss: 1.0907\n",
            "Epoch 17/30\n",
            "13/13 - 0s - 10ms/step - accuracy: 1.0000 - loss: 0.1914 - val_accuracy: 0.7333 - val_loss: 1.0802\n",
            "Epoch 18/30\n",
            "13/13 - 0s - 6ms/step - accuracy: 1.0000 - loss: 0.1744 - val_accuracy: 0.7667 - val_loss: 1.0710\n",
            "Epoch 19/30\n",
            "13/13 - 0s - 5ms/step - accuracy: 1.0000 - loss: 0.1596 - val_accuracy: 0.7667 - val_loss: 1.0630\n",
            "Epoch 20/30\n",
            "13/13 - 0s - 6ms/step - accuracy: 1.0000 - loss: 0.1467 - val_accuracy: 0.7667 - val_loss: 1.0559\n",
            "Epoch 21/30\n",
            "13/13 - 0s - 11ms/step - accuracy: 1.0000 - loss: 0.1354 - val_accuracy: 0.7667 - val_loss: 1.0496\n",
            "Epoch 22/30\n",
            "13/13 - 0s - 11ms/step - accuracy: 1.0000 - loss: 0.1255 - val_accuracy: 0.7667 - val_loss: 1.0440\n",
            "Epoch 23/30\n",
            "13/13 - 0s - 10ms/step - accuracy: 1.0000 - loss: 0.1166 - val_accuracy: 0.7667 - val_loss: 1.0390\n",
            "Epoch 24/30\n",
            "13/13 - 0s - 5ms/step - accuracy: 1.0000 - loss: 0.1087 - val_accuracy: 0.7667 - val_loss: 1.0344\n",
            "Epoch 25/30\n",
            "13/13 - 0s - 5ms/step - accuracy: 1.0000 - loss: 0.1017 - val_accuracy: 0.7667 - val_loss: 1.0304\n",
            "Epoch 26/30\n",
            "13/13 - 0s - 10ms/step - accuracy: 1.0000 - loss: 0.0953 - val_accuracy: 0.7667 - val_loss: 1.0266\n",
            "Epoch 27/30\n",
            "13/13 - 0s - 10ms/step - accuracy: 1.0000 - loss: 0.0896 - val_accuracy: 0.7667 - val_loss: 1.0233\n",
            "Epoch 28/30\n",
            "13/13 - 0s - 11ms/step - accuracy: 1.0000 - loss: 0.0844 - val_accuracy: 0.7667 - val_loss: 1.0202\n",
            "Epoch 29/30\n",
            "13/13 - 0s - 9ms/step - accuracy: 1.0000 - loss: 0.0797 - val_accuracy: 0.7667 - val_loss: 1.0174\n",
            "Epoch 30/30\n",
            "13/13 - 0s - 6ms/step - accuracy: 1.0000 - loss: 0.0753 - val_accuracy: 0.7667 - val_loss: 1.0148\n"
          ]
        }
      ]
    },
    {
      "cell_type": "code",
      "source": [
        "# Plotting the results\n",
        "\n",
        "\n",
        "plt.style.use(\"seaborn\")\n",
        "fig, (ax1, ax2) = plt.subplots(2, 1, figsize=(6, 9))\n",
        "\n",
        "ax1.plot(q_history.history[\"val_accuracy\"], \"-ob\", label=\"With quantum layer\")\n",
        "ax1.set_ylabel(\"Accuracy\")\n",
        "ax1.set_ylim([0, 1])\n",
        "ax1.set_xlabel(\"Epoch\")\n",
        "ax1.legend()\n",
        "\n",
        "ax2.plot(q_history.history[\"val_loss\"], \"-ob\", label=\"With quantum layer\")\n",
        "ax2.set_ylabel(\"Loss\")\n",
        "ax2.set_ylim(top=2.5)\n",
        "ax2.set_xlabel(\"Epoch\")\n",
        "ax2.legend()\n",
        "plt.tight_layout()\n",
        "plt.show()"
      ],
      "metadata": {
        "colab": {
          "base_uri": "https://localhost:8080/",
          "height": 961
        },
        "id": "RzUh9x1S2ApZ",
        "outputId": "e5d77b78-23db-41de-e9e7-e5b9ae9b577d"
      },
      "execution_count": 56,
      "outputs": [
        {
          "output_type": "stream",
          "name": "stderr",
          "text": [
            "<ipython-input-56-2d4cec98f16d>:5: MatplotlibDeprecationWarning: The seaborn styles shipped by Matplotlib are deprecated since 3.6, as they no longer correspond to the styles shipped by seaborn. However, they will remain available as 'seaborn-v0_8-<style>'. Alternatively, directly use the seaborn API instead.\n",
            "  plt.style.use(\"seaborn\")\n"
          ]
        },
        {
          "output_type": "display_data",
          "data": {
            "text/plain": [
              "<Figure size 600x900 with 2 Axes>"
            ],
            "image/png": "[encoded data removed]"
          },
          "metadata": {}
        }
      ]
    },
    {
      "cell_type": "markdown",
      "source": [
        "**Task 4**\n",
        "\n",
        "The goal of this subtask is to develop your own\n",
        "model and use it to learn the sine function on the interval [0, 2π]. Discretize\n",
        "the interval with a suitable number of points (of your choice) and use the\n",
        "values of the sine function at these discretization points as labels.\n",
        "Implement a Quantum Machine Learning model which reproduces the\n",
        "values of the sine function."
      ],
      "metadata": {
        "id": "6XD2XyWe2VLr"
      }
    },
    {
      "cell_type": "code",
      "source": [
        "import pennylane as qml\n",
        "from pennylane import numpy as np\n",
        "\n",
        "# Set random seed for reproducibility\n",
        "np.random.seed(42)\n",
        "\n",
        "# Define the number of qubits and layers\n",
        "n_qubits = 4\n",
        "n_layers = 2\n",
        "\n",
        "# Create a quantum device\n",
        "dev = qml.device(\"default.qubit\", wires=n_qubits)\n",
        "\n",
        "@qml.qnode(dev)\n",
        "def quantum_circuit(inputs, weights):\n",
        "    # State preparation\n",
        "    for i in range(n_qubits):\n",
        "        qml.RX(inputs[i], wires=i)\n",
        "\n",
        "    # Layered Ansatz\n",
        "    for layer in range(n_layers):\n",
        "        for i in range(n_qubits):\n",
        "            qml.RX(weights[layer][i][0], wires=i)\n",
        "            qml.RY(weights[layer][i][1], wires=i)\n",
        "            qml.RZ(weights[layer][i][2], wires=i)\n",
        "\n",
        "        for i in range(n_qubits - 1):\n",
        "            qml.CNOT(wires=[i, i + 1])\n",
        "\n",
        "    # MEasurement\n",
        "    return qml.expval(qml.PauliZ(0))\n",
        "\n",
        "# Cost - Squarred loss\n",
        "def cost(weights, X, y):\n",
        "    predictions = [quantum_circuit(x, weights) for x in X]\n",
        "    return np.mean((np.array(predictions) - y) ** 2)\n",
        "\n",
        "# Sine data\n",
        "X = np.linspace(0, 2 * np.pi, 1000)\n",
        "y = np.sin(X)\n",
        "\n",
        "# Normalize\n",
        "X_normalized = (X - np.min(X)) / (np.max(X) - np.min(X))\n",
        "X_encoded = np.array([X_normalized] * n_qubits).T\n",
        "\n",
        "shape = (n_layers, n_qubits, 3)\n",
        "weights = np.random.uniform(low=0, high=2 * np.pi, size=shape,requires_grad = True)\n",
        "\n",
        "\n",
        "opt = qml.AdamOptimizer(stepsize=0.01)\n",
        "\n",
        "# Optimization - Gradient Free optimizer\n",
        "steps = 100\n",
        "for i in range(steps):\n",
        "    weights = opt.step(lambda w: cost(w, X_encoded, y), weights)\n",
        "\n",
        "    if (i + 1) % 10 == 0:\n",
        "        print(f\"Step {i + 1}, Cost: {cost(weights, X_encoded, y):.4f}\")\n",
        "\n",
        "predictions = [quantum_circuit(x, weights) for x in X_encoded]\n",
        "\n",
        "\n",
        "print(f\"Final cost: {cost(weights, X_encoded, y):.4f}\")\n",
        "\n",
        "\n",
        "plt.figure(figsize=(10, 6))\n",
        "plt.plot(X, y, label=\"True sine function\")\n",
        "plt.plot(X, predictions, label=\"QML prediction\")\n",
        "plt.legend()\n",
        "plt.xlabel(\"x\")\n",
        "plt.ylabel(\"y\")\n",
        "plt.title(\"Quantum Machine Learning: Modeling Sine Function\")\n",
        "plt.show()"
      ],
      "metadata": {
        "colab": {
          "base_uri": "https://localhost:8080/",
          "height": 770
        },
        "id": "JN_l0Y08dmwQ",
        "outputId": "e6f42783-4085-4d1b-9a76-099dda150dae"
      },
      "execution_count": 325,
      "outputs": [
        {
          "output_type": "stream",
          "name": "stdout",
          "text": [
            "Step 10, Cost: 0.3904\n",
            "Step 20, Cost: 0.3498\n",
            "Step 30, Cost: 0.3185\n",
            "Step 40, Cost: 0.2966\n",
            "Step 50, Cost: 0.2830\n",
            "Step 60, Cost: 0.2753\n",
            "Step 70, Cost: 0.2712\n",
            "Step 80, Cost: 0.2693\n",
            "Step 90, Cost: 0.2683\n",
            "Step 100, Cost: 0.2678\n",
            "Training complete!\n",
            "Final cost: 0.2678\n"
          ]
        },
        {
          "output_type": "display_data",
          "data": {
            "text/plain": [
              "<Figure size 1000x600 with 1 Axes>"
            ],
            "image/png": "[encoded data removed]"
          },
          "metadata": {}
        }
      ]
    },
    {
      "cell_type": "markdown",
      "source": [
        "**Task 5**\n",
        "\n",
        "We change the data set from the sine function\n",
        "to real-word data-set from the industry. Download the following data-set\n",
        "from kaggle: data. You can find more information about the data set in the\n",
        "following paper.\n",
        "Implement a Quantum Machine Learning model to detect a defective\n",
        "production part. The implementation includes the preprocessing of the\n",
        "data, the implementation of a model and the visualization of the results. You\n",
        "can use one of the models above. Further, you can also use only a subset\n",
        "of the downloaded data. The final deliverable should be a notebook in which\n",
        "all the necessary steps have been carried out and documented."
      ],
      "metadata": {
        "id": "qgFgbbzqAbwx"
      }
    },
    {
      "cell_type": "markdown",
      "source": [
        "**Refer other sections and report in GitHub**"
      ],
      "metadata": {
        "id": "XnjxWIgXAjNo"
      }
    }
  ]
}